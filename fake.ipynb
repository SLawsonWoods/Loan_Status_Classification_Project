{
 "cells": [
  {
   "cell_type": "code",
   "execution_count": 1,
   "id": "b900bb06",
   "metadata": {},
   "outputs": [],
   "source": [
    "import pandas as pd\n",
    "import numpy as np\n",
    "import warnings\n",
    "import seaborn as sns\n",
    "warnings.filterwarnings(\"ignore\")\n",
    "import matplotlib.pyplot as plt\n",
    "import seaborn as sns\n",
    "from mpl_toolkits.mplot3d import Axes3D\n",
    "from scipy import stats\n",
    "\n",
    "from sklearn.model_selection import train_test_split\n",
    "from sklearn.metrics import accuracy_score\n",
    "from sklearn.model_selection import train_test_split\n",
    "from sklearn.metrics import confusion_matrix\n",
    "from sklearn.metrics import classification_report\n",
    "from sklearn.tree import DecisionTreeClassifier, plot_tree, export_text\n",
    "\n",
    "import prepare\n",
    "\n"
   ]
  },
  {
   "cell_type": "code",
   "execution_count": 2,
   "id": "79171e7e",
   "metadata": {},
   "outputs": [],
   "source": [
    "df1 = pd.read_csv('loan.csv')"
   ]
  },
  {
   "cell_type": "code",
   "execution_count": 3,
   "id": "7e69f4e2",
   "metadata": {},
   "outputs": [],
   "source": [
    "df2 = pd.read_csv('loan2.csv')"
   ]
  },
  {
   "cell_type": "code",
   "execution_count": 4,
   "id": "b62991d1",
   "metadata": {},
   "outputs": [],
   "source": [
    "df =pd.concat([df1,df2])"
   ]
  },
  {
   "cell_type": "code",
   "execution_count": 5,
   "id": "5407817a",
   "metadata": {},
   "outputs": [],
   "source": [
    "def prep_function(df):\n",
    "    # set loan id as index\n",
    "    df = df.set_index('Loan_ID')\n",
    "    # rename column\n",
    "    df = df.rename(columns={'ApplicantIncome': \"Applicant_Income\",'CoapplicantIncome': \"Coapplicant_Income\", 'LoanAmount':\"Loan_Amount\"})\n",
    "    # drop nulls in all but loan status\n",
    "    df = df.dropna()\n",
    "    return df"
   ]
  },
  {
   "cell_type": "code",
   "execution_count": 6,
   "id": "f159a5c8",
   "metadata": {},
   "outputs": [],
   "source": [
    "df = prep_function(df)"
   ]
  },
  {
   "cell_type": "code",
   "execution_count": 7,
   "id": "4276d650",
   "metadata": {},
   "outputs": [],
   "source": [
    "#split\n",
    "train, validate, test = prepare.train_validate_test_split(df, 'Loan_Status')"
   ]
  },
  {
   "cell_type": "code",
   "execution_count": 8,
   "id": "218a8005",
   "metadata": {},
   "outputs": [],
   "source": [
    "def encode(train, validate, test):\n",
    "    # Encoding categorical data\n",
    "    # Encoding the Independent Variable\n",
    "    from sklearn.preprocessing import LabelEncoder\n",
    "    labelencoder_X = LabelEncoder()\n",
    "    # I am going to loop through each col of the type object and encode\n",
    "    for col in train.select_dtypes(include = 'object'):\n",
    "        train[col]=labelencoder_X.fit_transform(train[col]) \n",
    "        validate[col]=labelencoder_X.fit_transform(validate[col]) \n",
    "        test[col]=labelencoder_X.fit_transform(test[col]) \n",
    "    return train, validate, test\n",
    "    "
   ]
  },
  {
   "cell_type": "code",
   "execution_count": 9,
   "id": "82f464fd",
   "metadata": {},
   "outputs": [],
   "source": [
    "train, validate, test = encode(train, validate, test)"
   ]
  },
  {
   "cell_type": "code",
   "execution_count": 10,
   "id": "ca98a904",
   "metadata": {},
   "outputs": [
    {
     "data": {
      "text/html": [
       "<div>\n",
       "<style scoped>\n",
       "    .dataframe tbody tr th:only-of-type {\n",
       "        vertical-align: middle;\n",
       "    }\n",
       "\n",
       "    .dataframe tbody tr th {\n",
       "        vertical-align: top;\n",
       "    }\n",
       "\n",
       "    .dataframe thead th {\n",
       "        text-align: right;\n",
       "    }\n",
       "</style>\n",
       "<table border=\"1\" class=\"dataframe\">\n",
       "  <thead>\n",
       "    <tr style=\"text-align: right;\">\n",
       "      <th></th>\n",
       "      <th>Gender</th>\n",
       "      <th>Married</th>\n",
       "      <th>Dependents</th>\n",
       "      <th>Education</th>\n",
       "      <th>Self_Employed</th>\n",
       "      <th>Applicant_Income</th>\n",
       "      <th>Coapplicant_Income</th>\n",
       "      <th>Loan_Amount</th>\n",
       "      <th>Loan_Amount_Term</th>\n",
       "      <th>Credit_History</th>\n",
       "      <th>Property_Area</th>\n",
       "      <th>Loan_Status</th>\n",
       "    </tr>\n",
       "    <tr>\n",
       "      <th>Loan_ID</th>\n",
       "      <th></th>\n",
       "      <th></th>\n",
       "      <th></th>\n",
       "      <th></th>\n",
       "      <th></th>\n",
       "      <th></th>\n",
       "      <th></th>\n",
       "      <th></th>\n",
       "      <th></th>\n",
       "      <th></th>\n",
       "      <th></th>\n",
       "      <th></th>\n",
       "    </tr>\n",
       "  </thead>\n",
       "  <tbody>\n",
       "    <tr>\n",
       "      <th>LP001003</th>\n",
       "      <td>1</td>\n",
       "      <td>1</td>\n",
       "      <td>1</td>\n",
       "      <td>0</td>\n",
       "      <td>0</td>\n",
       "      <td>4583</td>\n",
       "      <td>1508.0</td>\n",
       "      <td>128.0</td>\n",
       "      <td>360.0</td>\n",
       "      <td>1.0</td>\n",
       "      <td>0</td>\n",
       "      <td>0</td>\n",
       "    </tr>\n",
       "    <tr>\n",
       "      <th>LP001836</th>\n",
       "      <td>0</td>\n",
       "      <td>0</td>\n",
       "      <td>2</td>\n",
       "      <td>0</td>\n",
       "      <td>0</td>\n",
       "      <td>3427</td>\n",
       "      <td>0.0</td>\n",
       "      <td>138.0</td>\n",
       "      <td>360.0</td>\n",
       "      <td>1.0</td>\n",
       "      <td>2</td>\n",
       "      <td>0</td>\n",
       "    </tr>\n",
       "    <tr>\n",
       "      <th>LP002606</th>\n",
       "      <td>0</td>\n",
       "      <td>0</td>\n",
       "      <td>0</td>\n",
       "      <td>0</td>\n",
       "      <td>0</td>\n",
       "      <td>3159</td>\n",
       "      <td>0.0</td>\n",
       "      <td>100.0</td>\n",
       "      <td>360.0</td>\n",
       "      <td>1.0</td>\n",
       "      <td>1</td>\n",
       "      <td>1</td>\n",
       "    </tr>\n",
       "    <tr>\n",
       "      <th>LP002684</th>\n",
       "      <td>0</td>\n",
       "      <td>0</td>\n",
       "      <td>0</td>\n",
       "      <td>1</td>\n",
       "      <td>0</td>\n",
       "      <td>3400</td>\n",
       "      <td>0.0</td>\n",
       "      <td>95.0</td>\n",
       "      <td>360.0</td>\n",
       "      <td>1.0</td>\n",
       "      <td>0</td>\n",
       "      <td>0</td>\n",
       "    </tr>\n",
       "    <tr>\n",
       "      <th>LP002308</th>\n",
       "      <td>1</td>\n",
       "      <td>1</td>\n",
       "      <td>0</td>\n",
       "      <td>1</td>\n",
       "      <td>0</td>\n",
       "      <td>2167</td>\n",
       "      <td>2400.0</td>\n",
       "      <td>115.0</td>\n",
       "      <td>360.0</td>\n",
       "      <td>1.0</td>\n",
       "      <td>2</td>\n",
       "      <td>1</td>\n",
       "    </tr>\n",
       "  </tbody>\n",
       "</table>\n",
       "</div>"
      ],
      "text/plain": [
       "          Gender  Married  Dependents  Education  Self_Employed  \\\n",
       "Loan_ID                                                           \n",
       "LP001003       1        1           1          0              0   \n",
       "LP001836       0        0           2          0              0   \n",
       "LP002606       0        0           0          0              0   \n",
       "LP002684       0        0           0          1              0   \n",
       "LP002308       1        1           0          1              0   \n",
       "\n",
       "          Applicant_Income  Coapplicant_Income  Loan_Amount  Loan_Amount_Term  \\\n",
       "Loan_ID                                                                         \n",
       "LP001003              4583              1508.0        128.0             360.0   \n",
       "LP001836              3427                 0.0        138.0             360.0   \n",
       "LP002606              3159                 0.0        100.0             360.0   \n",
       "LP002684              3400                 0.0         95.0             360.0   \n",
       "LP002308              2167              2400.0        115.0             360.0   \n",
       "\n",
       "          Credit_History  Property_Area  Loan_Status  \n",
       "Loan_ID                                               \n",
       "LP001003             1.0              0            0  \n",
       "LP001836             1.0              2            0  \n",
       "LP002606             1.0              1            1  \n",
       "LP002684             1.0              0            0  \n",
       "LP002308             1.0              2            1  "
      ]
     },
     "execution_count": 10,
     "metadata": {},
     "output_type": "execute_result"
    }
   ],
   "source": [
    "train.head()"
   ]
  },
  {
   "cell_type": "code",
   "execution_count": 11,
   "id": "b18dd62f",
   "metadata": {},
   "outputs": [],
   "source": [
    "def split_2(train, validate, test): \n",
    "    # here I split into my features and target\n",
    "    y_train = train[['Loan_Status']]\n",
    "    X_train = train.drop(columns= 'Loan_Status')\n",
    "    y_validate = validate[['Loan_Status']]\n",
    "    X_validate = validate.drop(columns= 'Loan_Status')\n",
    "    y_test = test[['Loan_Status']]\n",
    "    X_test = test.drop(columns= 'Loan_Status')\n",
    "    return train, validate, test, y_train, X_train, y_validate, X_validate, y_test, X_test\n",
    "    "
   ]
  },
  {
   "cell_type": "code",
   "execution_count": 12,
   "id": "6a2585d4",
   "metadata": {},
   "outputs": [],
   "source": [
    "train, validate, test, y_train, X_train, y_validate, X_validate, y_test, X_test =split_2(train, validate, test)"
   ]
  },
  {
   "cell_type": "code",
   "execution_count": 13,
   "id": "1c535566",
   "metadata": {},
   "outputs": [],
   "source": [
    "def scaling(X_train, X_validate, X_test): \n",
    "    # time to scale features\n",
    "    from sklearn.preprocessing import StandardScaler\n",
    "    sc = StandardScaler()\n",
    "    X_train = sc.fit_transform(X_train)\n",
    "    X_validate = sc.transform(X_validate)\n",
    "    X_test = sc.transform(X_test)\n",
    "    return X_train, X_validate, X_test"
   ]
  },
  {
   "cell_type": "code",
   "execution_count": 14,
   "id": "3c76549b",
   "metadata": {},
   "outputs": [
    {
     "data": {
      "text/plain": [
       "(array([[ 0.47891314,  0.77768272,  0.28334549, ...,  0.31066   ,\n",
       "          0.43109246, -1.35752105],\n",
       "        [-2.0880613 , -1.28587143,  1.28251116, ...,  0.31066   ,\n",
       "          0.43109246,  1.21361422],\n",
       "        [-2.0880613 , -1.28587143, -0.71582018, ...,  0.31066   ,\n",
       "          0.43109246, -0.07195341],\n",
       "        ...,\n",
       "        [ 0.47891314,  0.77768272,  1.28251116, ...,  0.31066   ,\n",
       "          0.43109246, -1.35752105],\n",
       "        [ 0.47891314, -1.28587143, -0.71582018, ...,  0.31066   ,\n",
       "         -2.31968799, -1.35752105],\n",
       "        [ 0.47891314,  0.77768272, -0.71582018, ...,  0.31066   ,\n",
       "          0.43109246, -1.35752105]]),\n",
       " array([[-2.0880613 ,  0.77768272,  0.28334549, ...,  0.31066   ,\n",
       "          0.43109246, -0.07195341],\n",
       "        [-2.0880613 , -1.28587143, -0.71582018, ...,  0.31066   ,\n",
       "         -2.31968799,  1.21361422],\n",
       "        [ 0.47891314,  0.77768272,  0.28334549, ...,  0.31066   ,\n",
       "          0.43109246, -0.07195341],\n",
       "        ...,\n",
       "        [ 0.47891314,  0.77768272, -0.71582018, ...,  0.31066   ,\n",
       "          0.43109246, -1.35752105],\n",
       "        [ 0.47891314,  0.77768272,  0.28334549, ...,  0.31066   ,\n",
       "          0.43109246, -1.35752105],\n",
       "        [ 0.47891314,  0.77768272,  1.28251116, ...,  0.31066   ,\n",
       "          0.43109246, -0.07195341]]),\n",
       " array([[ 0.47891314,  0.77768272, -0.71582018, ...,  0.31066   ,\n",
       "          0.43109246, -0.07195341],\n",
       "        [ 0.47891314, -1.28587143, -0.71582018, ...,  1.97247395,\n",
       "         -2.31968799,  1.21361422],\n",
       "        [ 0.47891314,  0.77768272,  0.28334549, ...,  0.31066   ,\n",
       "          0.43109246, -0.07195341],\n",
       "        ...,\n",
       "        [ 0.47891314,  0.77768272, -0.71582018, ...,  0.31066   ,\n",
       "          0.43109246, -1.35752105],\n",
       "        [-2.0880613 , -1.28587143, -0.71582018, ...,  0.31066   ,\n",
       "         -2.31968799, -0.07195341],\n",
       "        [-2.0880613 , -1.28587143, -0.71582018, ...,  0.31066   ,\n",
       "          0.43109246,  1.21361422]]))"
      ]
     },
     "execution_count": 14,
     "metadata": {},
     "output_type": "execute_result"
    }
   ],
   "source": [
    "scaling(X_train, X_validate, X_test)"
   ]
  },
  {
   "cell_type": "code",
   "execution_count": null,
   "id": "0a1f2b70",
   "metadata": {},
   "outputs": [],
   "source": []
  },
  {
   "cell_type": "code",
   "execution_count": null,
   "id": "65b2aeaf",
   "metadata": {},
   "outputs": [],
   "source": []
  }
 ],
 "metadata": {
  "kernelspec": {
   "display_name": "Python 3",
   "language": "python",
   "name": "python3"
  },
  "language_info": {
   "codemirror_mode": {
    "name": "ipython",
    "version": 3
   },
   "file_extension": ".py",
   "mimetype": "text/x-python",
   "name": "python",
   "nbconvert_exporter": "python",
   "pygments_lexer": "ipython3",
   "version": "3.8.8"
  }
 },
 "nbformat": 4,
 "nbformat_minor": 5
}
