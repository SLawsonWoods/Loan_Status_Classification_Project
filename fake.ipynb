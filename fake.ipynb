{
 "cells": [
  {
   "cell_type": "code",
   "execution_count": 1,
   "id": "b900bb06",
   "metadata": {},
   "outputs": [],
   "source": [
    "import pandas as pd\n",
    "import numpy as np\n",
    "import warnings\n",
    "import seaborn as sns\n",
    "warnings.filterwarnings(\"ignore\")\n",
    "import matplotlib.pyplot as plt\n",
    "import seaborn as sns\n",
    "from mpl_toolkits.mplot3d import Axes3D\n",
    "from scipy import stats\n",
    "\n",
    "from sklearn.model_selection import train_test_split\n",
    "from sklearn.metrics import accuracy_score\n",
    "from sklearn.model_selection import train_test_split\n",
    "from sklearn.metrics import confusion_matrix\n",
    "from sklearn.metrics import classification_report\n",
    "from sklearn.tree import DecisionTreeClassifier, plot_tree, export_text\n",
    "\n",
    "import prepare\n",
    "\n"
   ]
  },
  {
   "cell_type": "code",
   "execution_count": 4,
   "id": "79171e7e",
   "metadata": {},
   "outputs": [],
   "source": [
    "df1 = pd.read_csv('loan.csv')"
   ]
  },
  {
   "cell_type": "code",
   "execution_count": 5,
   "id": "7e69f4e2",
   "metadata": {},
   "outputs": [],
   "source": [
    "df2 = pd.read_csv('loan2.csv')"
   ]
  },
  {
   "cell_type": "code",
   "execution_count": 6,
   "id": "b62991d1",
   "metadata": {},
   "outputs": [],
   "source": [
    "df =pd.concat([df1,df2])"
   ]
  },
  {
   "cell_type": "code",
   "execution_count": 16,
   "id": "5407817a",
   "metadata": {},
   "outputs": [],
   "source": [
    "def prep_function(df_any):\n",
    "    # rename column\n",
    "    df = df.rename(columns={'ApplicantIncome': \"Applicant_Income\",'CoapplicantIncome': \"Coapplicant_Income\", 'LoanAmount':\"Loan_Amount\"})\n",
    "    # drop nulls in all but loan status\n",
    "    df = df.dropna(subset=['Loan_ID', 'Gender', 'Married', 'Dependents', 'Education',\n",
    "       'Self_Employed', 'Applicant_Income', 'Coapplicant_Income',\n",
    "       'Loan_Amount', 'Loan_Amount_Term', 'Credit_History', 'Property_Area'])\n",
    "    # create dummies dataframe using .get_dummies(column_name,not dropping any of the dummy columns)\n",
    "    dummy_df = pd.get_dummies(df,columns=['Gender', 'Married', 'Dependents', 'Education',\n",
    "       'Self_Employed','Credit_History', 'Property_Area',\n",
    "       'Loan_Status'], drop_first=True)\n",
    "    # join original df with dummies df using .concat([original_df,dummy_df], join along the index)\n",
    "    df = pd.concat([df, dummy_df], axis=1)\n",
    "    return new_df"
   ]
  },
  {
   "cell_type": "code",
   "execution_count": 17,
   "id": "f159a5c8",
   "metadata": {},
   "outputs": [
    {
     "ename": "UnboundLocalError",
     "evalue": "local variable 'df' referenced before assignment",
     "output_type": "error",
     "traceback": [
      "\u001b[0;31m---------------------------------------------------------------------------\u001b[0m",
      "\u001b[0;31mUnboundLocalError\u001b[0m                         Traceback (most recent call last)",
      "\u001b[0;32m<ipython-input-17-c7e371610f9e>\u001b[0m in \u001b[0;36m<module>\u001b[0;34m\u001b[0m\n\u001b[0;32m----> 1\u001b[0;31m \u001b[0mprep_function\u001b[0m\u001b[0;34m(\u001b[0m\u001b[0mdf\u001b[0m\u001b[0;34m)\u001b[0m\u001b[0;34m\u001b[0m\u001b[0;34m\u001b[0m\u001b[0m\n\u001b[0m",
      "\u001b[0;32m<ipython-input-16-9810c51a1720>\u001b[0m in \u001b[0;36mprep_function\u001b[0;34m(df_any)\u001b[0m\n\u001b[1;32m      1\u001b[0m \u001b[0;32mdef\u001b[0m \u001b[0mprep_function\u001b[0m\u001b[0;34m(\u001b[0m\u001b[0mdf_any\u001b[0m\u001b[0;34m)\u001b[0m\u001b[0;34m:\u001b[0m\u001b[0;34m\u001b[0m\u001b[0;34m\u001b[0m\u001b[0m\n\u001b[1;32m      2\u001b[0m     \u001b[0;31m# rename column\u001b[0m\u001b[0;34m\u001b[0m\u001b[0;34m\u001b[0m\u001b[0;34m\u001b[0m\u001b[0m\n\u001b[0;32m----> 3\u001b[0;31m     \u001b[0mdf\u001b[0m \u001b[0;34m=\u001b[0m \u001b[0mdf\u001b[0m\u001b[0;34m.\u001b[0m\u001b[0mrename\u001b[0m\u001b[0;34m(\u001b[0m\u001b[0mcolumns\u001b[0m\u001b[0;34m=\u001b[0m\u001b[0;34m{\u001b[0m\u001b[0;34m'ApplicantIncome'\u001b[0m\u001b[0;34m:\u001b[0m \u001b[0;34m\"Applicant_Income\"\u001b[0m\u001b[0;34m,\u001b[0m\u001b[0;34m'CoapplicantIncome'\u001b[0m\u001b[0;34m:\u001b[0m \u001b[0;34m\"Coapplicant_Income\"\u001b[0m\u001b[0;34m,\u001b[0m \u001b[0;34m'LoanAmount'\u001b[0m\u001b[0;34m:\u001b[0m\u001b[0;34m\"Loan_Amount\"\u001b[0m\u001b[0;34m}\u001b[0m\u001b[0;34m)\u001b[0m\u001b[0;34m\u001b[0m\u001b[0;34m\u001b[0m\u001b[0m\n\u001b[0m\u001b[1;32m      4\u001b[0m     \u001b[0;31m# drop nulls in all but loan status\u001b[0m\u001b[0;34m\u001b[0m\u001b[0;34m\u001b[0m\u001b[0;34m\u001b[0m\u001b[0m\n\u001b[1;32m      5\u001b[0m     df = df.dropna(subset=['Loan_ID', 'Gender', 'Married', 'Dependents', 'Education',\n",
      "\u001b[0;31mUnboundLocalError\u001b[0m: local variable 'df' referenced before assignment"
     ]
    }
   ],
   "source": [
    "prep_function(df)"
   ]
  },
  {
   "cell_type": "code",
   "execution_count": null,
   "id": "d72d2757",
   "metadata": {},
   "outputs": [],
   "source": []
  }
 ],
 "metadata": {
  "kernelspec": {
   "display_name": "Python 3",
   "language": "python",
   "name": "python3"
  },
  "language_info": {
   "codemirror_mode": {
    "name": "ipython",
    "version": 3
   },
   "file_extension": ".py",
   "mimetype": "text/x-python",
   "name": "python",
   "nbconvert_exporter": "python",
   "pygments_lexer": "ipython3",
   "version": "3.8.8"
  }
 },
 "nbformat": 4,
 "nbformat_minor": 5
}
